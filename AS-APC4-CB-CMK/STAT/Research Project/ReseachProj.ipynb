{
 "cells": [
  {
   "cell_type": "markdown",
   "metadata": {},
   "source": [
    "# Statistic Research Project\n",
    "\n",
    "\n",
    "Students: Arthur ADAM, Alexandre FLION\n",
    "\n",
    "## Context\n",
    "\n",
    "This research project has been done between August 31st and the October 3rd 2022. We were asked to complete a research on the thematic of our choice. Having no idea what to work on, we choose a simple situation:\n",
    "\n",
    "```txt\n",
    "France and Netherlands both have a long periods of rain and we just discovered the city centre where there is shops and restaurants. What if we study the impact of weather on the shopping behaviour of people of Eindhoven?\n",
    "```\n",
    "\n",
    "We chose that thematic and we worked on it during this period.\n",
    "\n",
    "## Research Project\n",
    "\n",
    "### Research Setup\n",
    "\n",
    "As a first task, we created 2 hypothesis, our null Hypothesis called H0 and our alternative hypothesis called HA, in order to begin our study.\n",
    "\n",
    "Our hypothesis, H0 and HA, were respectively the followings:\n",
    "\n",
    "- People shop wether it rains or it is sunny.\n",
    "- People shop less when it rains than when it is sunny.\n",
    "\n",
    "In first place, we wanted to measure the number of people in the street in a street where there are shops and restaurants. The problem with that would have been the number of data points, which would have been too large. We restraints ourselves to focus on specific areas of this street by looking at shops.\n",
    "\n",
    "In order to do this research, we had to take a place in Eindhoven when there are shops and restaurants. Therefore, we choose the city centre. We exactly choose the Demerstraat, Eindhoven, where are located a lot of clothing stores and restaurants.\n",
    "\n",
    "We also had to choose well frequented shops. We choose one clothing store and one restaurant or fast food, both being attractive.\n",
    "\n",
    "We could choose Levis but the prices are very high so we decided to choose \"The Athlete's Foot\" located at Demer 18B, 5611 AR, Eindhoven.\n",
    "\n",
    "In order to get data during the day or the afternoon, we choose a restaurant where people can take food they can eat on the go. Therefore, we took Baker's Bart, located at Demer 21, 5611 AN, Eindhoven.\n",
    "\n",
    "These two locations also have an advantage: we can look at both stores being at the same location so we can communicate while taking data.\n",
    "\n",
    "From this point, we chose the simple randome sample sampling method. We took random people entering the shops regardless of age, sex or nationality.\n",
    "\n",
    "We also had to choose a time where there are people shopping. Then, we took the an afternoon time, which was between 3:40 PM and 4:30 PM. We also choose 2 days when we were available and when people were shopping. We took Monday and Thursday.\n",
    "\n",
    "At this point, we knew what to do: Counting people entering \"The Athlete's Foot\" and \"Baker's Bart\" on Monday and Thursday between 3:40PM and 4:30PM.\n",
    "\n",
    "### Data sample\n",
    "\n",
    "With this Notebook, you will find our [dataset as a CSV file](./fdata.csv). All date points are in UTC date format.\n",
    "\n",
    "We extracted our data from our dataset using the following code:"
   ]
  },
  {
   "cell_type": "code",
   "execution_count": 1,
   "metadata": {},
   "outputs": [],
   "source": [
    "from dataclasses import dataclass\n",
    "from datetime import datetime\n",
    "from enum import Enum\n",
    "\n",
    "class ShopType(Enum):\n",
    "    Clothing = 0\n",
    "    Fastfood = 1\n",
    "\n",
    "class DataTaker(Enum):\n",
    "    Alexandre = 0\n",
    "    Arthur = 1\n",
    "\n",
    "class Weather(Enum):\n",
    "    Sunny = 0\n",
    "    Rainy = 1\n",
    "\n",
    "@dataclass\n",
    "class DataPoint:\n",
    "    name: DataTaker\n",
    "    shop: ShopType\n",
    "    rain: Weather\n",
    "    time: datetime"
   ]
  },
  {
   "cell_type": "code",
   "execution_count": 3,
   "metadata": {},
   "outputs": [],
   "source": [
    "import csv\n",
    "\n",
    "data: list[DataPoint] = []\n",
    "\n",
    "with open(\"fdata.csv\") as f:\n",
    "    r = csv.reader(f)\n",
    "    next(r)\n",
    "    for i in r:\n",
    "        data.append(DataPoint(\n",
    "            name=DataTaker.Alexandre if i[0] == \"Alexandre\" else DataTaker.Arthur,\n",
    "            shop=ShopType.Clothing if i[1] == \"clothing\" else ShopType.Fastfood,\n",
    "            rain=Weather.Sunny if i[2] == \"sunny\" else Weather.Rainy,\n",
    "            time=datetime.strptime(i[3], '%Y-%m-%d %H:%M:%S')\n",
    "        ))"
   ]
  },
  {
   "cell_type": "markdown",
   "metadata": {},
   "source": [
    "As long as we have the data, we can count the number of entry in each group we can find:\n",
    "\n",
    "- The person entered \"The Athlete's Foot\" on a sunny day.\n",
    "- The person entered \"The Athlete's Foot\" on a rainy day.\n",
    "- The person entered \"Baker's Bart\" on a sunny day.\n",
    "- The person entered \"Baker's Bart\" on a rainy day."
   ]
  },
  {
   "cell_type": "code",
   "execution_count": 4,
   "metadata": {},
   "outputs": [
    {
     "name": "stdout",
     "output_type": "stream",
     "text": [
      "athlete_sunny=103\n",
      "athlete_raining=73\n",
      "baker_sunny=54\n",
      "baker_raining=40\n"
     ]
    }
   ],
   "source": [
    "athlete_sunny = len(list(filter(lambda x: x.shop == ShopType.Clothing and x.rain == Weather.Sunny, data)))\n",
    "athlete_raining = len(list(filter(lambda x: x.shop == ShopType.Clothing and x.rain == Weather.Rainy, data)))\n",
    "baker_sunny = len(list(filter(lambda x: x.shop == ShopType.Fastfood and x.rain == Weather.Sunny, data)))\n",
    "baker_raining = len(list(filter(lambda x: x.shop == ShopType.Fastfood and x.rain == Weather.Rainy, data)))\n",
    "\n",
    "print(f\"{athlete_sunny=}\")\n",
    "print(f\"{athlete_raining=}\")\n",
    "print(f\"{baker_sunny=}\")\n",
    "print(f\"{baker_raining=}\")"
   ]
  },
  {
   "cell_type": "markdown",
   "metadata": {},
   "source": [
    "Now we have the values of each individual group, we can compute totals."
   ]
  },
  {
   "cell_type": "code",
   "execution_count": 5,
   "metadata": {},
   "outputs": [
    {
     "name": "stdout",
     "output_type": "stream",
     "text": [
      "total_sunny=157\n",
      "total_raining=113\n",
      "total_athlete=176\n",
      "total_baker=94\n",
      "total=270\n"
     ]
    }
   ],
   "source": [
    "total_sunny = athlete_sunny + baker_sunny\n",
    "total_raining = athlete_raining + baker_raining\n",
    "total_athlete = athlete_raining + athlete_sunny\n",
    "total_baker = baker_raining + baker_sunny\n",
    "total = total_baker + total_athlete\n",
    "\n",
    "print(f\"{total_sunny=}\")\n",
    "print(f\"{total_raining=}\")\n",
    "print(f\"{total_athlete=}\")\n",
    "print(f\"{total_baker=}\")\n",
    "print(f\"{total=}\")"
   ]
  },
  {
   "cell_type": "markdown",
   "metadata": {},
   "source": [
    "With the values we gathered, we can create the following table with our sample of 270 people:\n",
    "\n",
    "|//////////////////|Sunny|Raining|Total|\n",
    "|:----------------:|:---:|:-----:|:---:|\n",
    "|The Athlete's Foot|103|73|176|\n",
    "|Baker's Bart|54|40|94|\n",
    "|Total|157|113|270|\n",
    "\n",
    "Therefore, we can calculate the probability the probability that someone goes shopping on a sunny and on a rainy day:"
   ]
  },
  {
   "cell_type": "code",
   "execution_count": 6,
   "metadata": {},
   "outputs": [
    {
     "name": "stdout",
     "output_type": "stream",
     "text": [
      "Probability that someone goes shopping on a sunny day: 0.581\n",
      "Probability that someone goes shopping on a rainy day: 0.419\n"
     ]
    }
   ],
   "source": [
    "print(f\"Probability that someone goes shopping on a sunny day: {total_sunny/total:.3f}\")\n",
    "print(f\"Probability that someone goes shopping on a rainy day: {total_raining/total:.3f}\")"
   ]
  },
  {
   "cell_type": "markdown",
   "metadata": {},
   "source": [
    "Currently, with the data we have we can't get a mean, a median or even a standard deviation. Then, we're going to separate our data in different groups of 5 minutes to get a median and a mean of people entering each shop in 5 minutes on a sunny and a rainy weather.\n",
    "\n",
    "In order to compare and tests our basics hypothesis, we can rewrite them as the followings:\n",
    "\n",
    "- Mean Sunny Shopping - Mean Rainy Shopping = 0\n",
    "- Mean Sunny Shopping - Mean Rainy Shopping > 0\n",
    "\n",
    "We'll have 8 groups for of each group, so 16 groups.\n",
    "\n",
    "|//////////|Sunny|Rainy|Total|\n",
    "|:--------:|:---:|:---:|:---:|\n",
    "|3:40PM to 3:45PM|10|6|16|\n",
    "|3:45PM to 3:50PM|25|14|39|\n",
    "|3:50PM to 3:55PM|18|19|37|\n",
    "|3:55PM to 4:00PM|20|14|34|\n",
    "|4:00PM to 4:05PM|23|19|42|\n",
    "|4:05PM to 4:10PM|10|7|17|\n",
    "|4:10PM to 4:15PM|16|9|25|\n",
    "|4:15PM to 4:20PM|21|13|34|\n",
    "|4:20PM to 4:25PM|12|12|24|\n",
    "|4:25PM to 4:30PM|2|0|2|\n",
    "|Total|157|113|270|\n",
    "|Mean of people during the timestamp|15.7|11.3|27|\n",
    "|Standard deviation|7.134|5.922|\n",
    "\n",
    "In order to compare our two values, we can run a two sample t-test with difference of means."
   ]
  },
  {
   "cell_type": "code",
   "execution_count": 7,
   "metadata": {},
   "outputs": [
    {
     "name": "stdout",
     "output_type": "stream",
     "text": [
      "sunny_shopping_mean - rainy_shopping_mean = 4.40\n"
     ]
    }
   ],
   "source": [
    "sunny_shopping_mean = 15.7\n",
    "rainy_shopping_mean = 11.3\n",
    "\n",
    "print(f\"{sunny_shopping_mean - rainy_shopping_mean = :.2f}\")"
   ]
  },
  {
   "cell_type": "markdown",
   "metadata": {},
   "source": [
    "Using this value, we're going to use a one-sided confidence interval of 95%.\n",
    "\n",
    "From our one-sided confidence interval of 95%, we will be able to use a z-value of 1.96."
   ]
  },
  {
   "cell_type": "code",
   "execution_count": 8,
   "metadata": {},
   "outputs": [
    {
     "name": "stdout",
     "output_type": "stream",
     "text": [
      "(2.839, 5.961)\n"
     ]
    }
   ],
   "source": [
    "from math import sqrt\n",
    "\n",
    "\n",
    "mean_difference = sunny_shopping_mean - rainy_shopping_mean\n",
    "\n",
    "z_value = 1.96\n",
    "interval_value = z_value * sqrt((pow(7.134, 2) / total_sunny) + (pow(5.922, 2) / total_raining))\n",
    "\n",
    "print(f\"({mean_difference - interval_value:.3f}, {mean_difference + interval_value:.3f})\")"
   ]
  },
  {
   "cell_type": "markdown",
   "metadata": {},
   "source": [
    "Then, we're our confidence interval will be: (2.839, 5.961).\n",
    "\n",
    "Using the Welsh-t test as a two sample t-test, we can find the t-value of our test and the degree of freedom of our study."
   ]
  },
  {
   "cell_type": "code",
   "execution_count": 11,
   "metadata": {},
   "outputs": [
    {
     "name": "stdout",
     "output_type": "stream",
     "text": [
      "Welsh t-test t-value: 3.505\n",
      "Welsh t-test degree of freedom: 4\n"
     ]
    }
   ],
   "source": [
    "## Welsh t-test\n",
    "##\n",
    "## Welsh T-Test t-value formula: (mA - mB) / sqrt((standard deviation of A^2 / size of sample A) + (standard deviation of B^2 / size of sample B))\n",
    "\n",
    "t_value = mean_difference * sqrt((pow(7.134, 2) / 157) + (pow(5.922, 2) / 113))\n",
    "f_degree = pow((pow(7.134, 2) / 157) + (pow(5.922, 2) / 113), 2) / ((pow(7.134, 4) / (pow(total_sunny, 2) * (total_sunny - 1))) + (pow(5.922, 4) / (pow(total_raining, 2) * (total_raining - 1))))\n",
    "\n",
    "print(f\"Welsh t-test t-value: {t_value:.3f}\")\n",
    "print(f\"Welsh t-test degree of freedom: {t_value:.0f}\")"
   ]
  },
  {
   "cell_type": "markdown",
   "metadata": {},
   "source": [
    "Our t-value will be 3.505 and our degree of freedom will be 4. Being of degree 4, 3.505 is located between 2.776 and 3.747 being respectively of p-value 0.025 and 0.01. Therefore, our p-value will also be between 0.025 and 0.01.\n",
    "\n",
    "Using an [online calculator](https://www.socscistatistics.com/pvalues/tdistribution.aspx) for one-sided confidence interval, we find that our p-value is equal to 0.012392.\n",
    "\n",
    "Therefore, we can compare it with our significance level which is 0.05.\n",
    "\n",
    "0.012392 is lower than 0.05. In other words, we can conclude that the mean values of group \"Shopping on Sunny day\" and \"Shopping on Rainy day\" are significantly different.\n",
    "\n",
    "Tho, we can reject our null hypothesis and validate our alternative hypothesis."
   ]
  },
  {
   "cell_type": "markdown",
   "metadata": {},
   "source": [
    "## Conclusion\n",
    "\n",
    "Our research showed that the shopping behaviour in Eindhoven on Mondays and Thursdays between 3:40PM and 4:30PM is less important when it rains than when it's sunny."
   ]
  },
  {
   "cell_type": "markdown",
   "metadata": {},
   "source": [
    "## Discussion\n",
    "\n",
    "From this research project results, we can say that the statistics and our test showed what we tought.\n",
    "\n",
    "But we could use another approach to this study...\n",
    "\n",
    "We could have take data on more than 2 days and change the approach for a bigger approach of the problem.\n",
    "\n",
    "The fact we were just choosing people entering shops is a little bit restricting for the problem we try to analyse. We could have way more data points to take people going in the market street. Unfortunately, this method could have biais like counting people just passing and not going into shops.\n",
    "\n",
    "This could have give us way more data points but it also could give us way more samples, better standard deviations and a way larger choice on statistical tests.\n",
    "\n",
    "Also only 2 samples forced us to use a test that is really hard to use even if the Welsh T-Test is the most accurate test we could use for the data we had."
   ]
  }
 ],
 "metadata": {
  "kernelspec": {
   "display_name": "Python 3.10.7 64-bit",
   "language": "python",
   "name": "python3"
  },
  "language_info": {
   "codemirror_mode": {
    "name": "ipython",
    "version": 3
   },
   "file_extension": ".py",
   "mimetype": "text/x-python",
   "name": "python",
   "nbconvert_exporter": "python",
   "pygments_lexer": "ipython3",
   "version": "3.10.7"
  },
  "orig_nbformat": 4,
  "vscode": {
   "interpreter": {
    "hash": "97cc609b13305c559618ec78a438abc56230b9381f827f22d070313b9a1f3777"
   }
  }
 },
 "nbformat": 4,
 "nbformat_minor": 2
}
